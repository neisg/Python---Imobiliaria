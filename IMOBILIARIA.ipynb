{
  "nbformat": 4,
  "nbformat_minor": 0,
  "metadata": {
    "colab": {
      "provenance": [],
      "collapsed_sections": [],
      "authorship_tag": "ABX9TyPx8roScNsuFW9z9dX9ccfm",
      "include_colab_link": true
    },
    "kernelspec": {
      "name": "python3",
      "display_name": "Python 3"
    },
    "language_info": {
      "name": "python"
    }
  },
  "cells": [
    {
      "cell_type": "markdown",
      "metadata": {
        "id": "view-in-github",
        "colab_type": "text"
      },
      "source": [
        "<a href=\"https://colab.research.google.com/github/neisg/Python---Imobiliaria/blob/main/IMOBILIARIA.ipynb\" target=\"_parent\"><img src=\"https://colab.research.google.com/assets/colab-badge.svg\" alt=\"Open In Colab\"/></a>"
      ]
    },
    {
      "cell_type": "code",
      "execution_count": 107,
      "metadata": {
        "id": "rsa4WMkYG_aT"
      },
      "outputs": [],
      "source": [
        "#Imobiliaria\n",
        "#House Rocket"
      ]
    },
    {
      "cell_type": "code",
      "source": [
        "import pandas as pd\n"
      ],
      "metadata": {
        "id": "RapVnHd5HiEC"
      },
      "execution_count": 108,
      "outputs": []
    },
    {
      "cell_type": "code",
      "source": [
        "data = pd.read_csv('/content/kc_house_data.csv')"
      ],
      "metadata": {
        "id": "bulNfZCXHlxE"
      },
      "execution_count": 109,
      "outputs": []
    },
    {
      "cell_type": "code",
      "source": [
        "# mostrar 5 primeiras linhas\n",
        "print(data.head())"
      ],
      "metadata": {
        "colab": {
          "base_uri": "https://localhost:8080/"
        },
        "id": "hgS39GnhM_eL",
        "outputId": "2f66629f-697e-452e-987d-f47d8b82d905"
      },
      "execution_count": 110,
      "outputs": [
        {
          "output_type": "stream",
          "name": "stdout",
          "text": [
            "           id             date     price  bedrooms  bathrooms  sqft_living  \\\n",
            "0  7129300520  20141013T000000  221900.0         3       1.00         1180   \n",
            "1  6414100192  20141209T000000  538000.0         3       2.25         2570   \n",
            "2  5631500400  20150225T000000  180000.0         2       1.00          770   \n",
            "3  2487200875  20141209T000000  604000.0         4       3.00         1960   \n",
            "4  1954400510  20150218T000000  510000.0         3       2.00         1680   \n",
            "\n",
            "   sqft_lot  floors  waterfront  view  ...  grade  sqft_above  sqft_basement  \\\n",
            "0      5650     1.0           0     0  ...      7        1180              0   \n",
            "1      7242     2.0           0     0  ...      7        2170            400   \n",
            "2     10000     1.0           0     0  ...      6         770              0   \n",
            "3      5000     1.0           0     0  ...      7        1050            910   \n",
            "4      8080     1.0           0     0  ...      8        1680              0   \n",
            "\n",
            "   yr_built  yr_renovated  zipcode      lat     long  sqft_living15  \\\n",
            "0      1955             0    98178  47.5112 -122.257           1340   \n",
            "1      1951          1991    98125  47.7210 -122.319           1690   \n",
            "2      1933             0    98028  47.7379 -122.233           2720   \n",
            "3      1965             0    98136  47.5208 -122.393           1360   \n",
            "4      1987             0    98074  47.6168 -122.045           1800   \n",
            "\n",
            "   sqft_lot15  \n",
            "0        5650  \n",
            "1        7639  \n",
            "2        8062  \n",
            "3        5000  \n",
            "4        7503  \n",
            "\n",
            "[5 rows x 21 columns]\n"
          ]
        }
      ]
    },
    {
      "cell_type": "code",
      "source": [
        "#linhas e colunas\n",
        "print(data.shape)"
      ],
      "metadata": {
        "colab": {
          "base_uri": "https://localhost:8080/"
        },
        "id": "veoPJohLM_as",
        "outputId": "56bd5bd9-38a0-4fb9-9e6e-cced400b662b"
      },
      "execution_count": 111,
      "outputs": [
        {
          "output_type": "stream",
          "name": "stdout",
          "text": [
            "(21613, 21)\n"
          ]
        }
      ]
    },
    {
      "cell_type": "code",
      "source": [
        "#Ordenadar colunas (price)\n",
        "print( data[[ 'id', 'price']].sort_values( 'price'))"
      ],
      "metadata": {
        "colab": {
          "base_uri": "https://localhost:8080/"
        },
        "id": "ApVVAUmYM_XK",
        "outputId": "a9adfe6a-4925-4113-f499-75dc15f98d33"
      },
      "execution_count": 112,
      "outputs": [
        {
          "output_type": "stream",
          "name": "stdout",
          "text": [
            "               id      price\n",
            "1149   3421079032    75000.0\n",
            "15293    40000362    78000.0\n",
            "465    8658300340    80000.0\n",
            "16198  3028200080    81000.0\n",
            "8274   3883800011    82000.0\n",
            "...           ...        ...\n",
            "1448   8907500070  5350000.0\n",
            "4411   2470100110  5570000.0\n",
            "9254   9208900037  6885000.0\n",
            "3914   9808700762  7062500.0\n",
            "7252   6762700020  7700000.0\n",
            "\n",
            "[21613 rows x 2 columns]\n"
          ]
        }
      ]
    },
    {
      "cell_type": "code",
      "source": [
        "#Ordenadar colunas (price) por ordem decrescente\n",
        "print( data[[ 'id', 'price']].sort_values( 'price', ascending=False))"
      ],
      "metadata": {
        "colab": {
          "base_uri": "https://localhost:8080/"
        },
        "id": "ZToFpyvDM_RT",
        "outputId": "1422c39c-87b4-44af-eefc-3d6b58f18c01"
      },
      "execution_count": 113,
      "outputs": [
        {
          "output_type": "stream",
          "name": "stdout",
          "text": [
            "               id      price\n",
            "7252   6762700020  7700000.0\n",
            "3914   9808700762  7062500.0\n",
            "9254   9208900037  6885000.0\n",
            "4411   2470100110  5570000.0\n",
            "1448   8907500070  5350000.0\n",
            "...           ...        ...\n",
            "8274   3883800011    82000.0\n",
            "16198  3028200080    81000.0\n",
            "465    8658300340    80000.0\n",
            "15293    40000362    78000.0\n",
            "1149   3421079032    75000.0\n",
            "\n",
            "[21613 rows x 2 columns]\n"
          ]
        }
      ]
    },
    {
      "cell_type": "code",
      "source": [
        "data['date']"
      ],
      "metadata": {
        "colab": {
          "base_uri": "https://localhost:8080/"
        },
        "id": "M4VKq2U6kTwG",
        "outputId": "47b37093-2fb4-4b74-fb64-1dde13250fcd"
      },
      "execution_count": 114,
      "outputs": [
        {
          "output_type": "execute_result",
          "data": {
            "text/plain": [
              "0        20141013T000000\n",
              "1        20141209T000000\n",
              "2        20150225T000000\n",
              "3        20141209T000000\n",
              "4        20150218T000000\n",
              "              ...       \n",
              "21608    20140521T000000\n",
              "21609    20150223T000000\n",
              "21610    20140623T000000\n",
              "21611    20150116T000000\n",
              "21612    20141015T000000\n",
              "Name: date, Length: 21613, dtype: object"
            ]
          },
          "metadata": {},
          "execution_count": 114
        }
      ]
    },
    {
      "cell_type": "code",
      "source": [
        "#COMO CONVERTER OS TIPOS DE VARIAVEIS"
      ],
      "metadata": {
        "id": "fU34AKgHmYHy"
      },
      "execution_count": 115,
      "outputs": []
    },
    {
      "cell_type": "code",
      "source": [
        "#inteiro - float\n",
        "data['bedrooms'] = data['bathrooms'].astype( float)"
      ],
      "metadata": {
        "id": "fr-3QpUUmYCn"
      },
      "execution_count": 116,
      "outputs": []
    },
    {
      "cell_type": "code",
      "source": [
        "#float - inteiro\n",
        "data['bedrooms'] = data['bathrooms'].astype( int )"
      ],
      "metadata": {
        "id": "_6-Z3qErmX9S"
      },
      "execution_count": 117,
      "outputs": []
    },
    {
      "cell_type": "code",
      "source": [
        "#inteiro - string\n",
        "data['bedrooms'] = data['bathrooms'].astype( str )"
      ],
      "metadata": {
        "id": "9MSs3ZVkmXAB"
      },
      "execution_count": 118,
      "outputs": []
    },
    {
      "cell_type": "code",
      "source": [
        "#string - inteiro\n",
        "data['bedrooms'] = data['bathrooms'].astype( int )"
      ],
      "metadata": {
        "id": "nM1lyefcoS-H"
      },
      "execution_count": 119,
      "outputs": []
    },
    {
      "cell_type": "code",
      "source": [
        "#string - data\n",
        "data['date'] = pd.to_datetime( data ['date'])"
      ],
      "metadata": {
        "id": "Dh_BDxU3oSvo"
      },
      "execution_count": 120,
      "outputs": []
    },
    {
      "cell_type": "code",
      "source": [
        "print(data.dtypes)"
      ],
      "metadata": {
        "colab": {
          "base_uri": "https://localhost:8080/"
        },
        "id": "eQ8GyRGej6Ks",
        "outputId": "24eba3fe-424e-4611-bfd4-86f46ccb9060"
      },
      "execution_count": 121,
      "outputs": [
        {
          "output_type": "stream",
          "name": "stdout",
          "text": [
            "id                        int64\n",
            "date             datetime64[ns]\n",
            "price                   float64\n",
            "bedrooms                  int64\n",
            "bathrooms               float64\n",
            "sqft_living               int64\n",
            "sqft_lot                  int64\n",
            "floors                  float64\n",
            "waterfront                int64\n",
            "view                      int64\n",
            "condition                 int64\n",
            "grade                     int64\n",
            "sqft_above                int64\n",
            "sqft_basement             int64\n",
            "yr_built                  int64\n",
            "yr_renovated              int64\n",
            "zipcode                   int64\n",
            "lat                     float64\n",
            "long                    float64\n",
            "sqft_living15             int64\n",
            "sqft_lot15                int64\n",
            "dtype: object\n"
          ]
        }
      ]
    },
    {
      "cell_type": "code",
      "source": [
        "                                 # REGRA DE NEGOCIO"
      ],
      "metadata": {
        "id": "TuoYv6ZwbRx1"
      },
      "execution_count": 122,
      "outputs": []
    },
    {
      "cell_type": "code",
      "source": [
        "# 1-QUAL A DATA DO IMOVEL MAIS ANTIGO NO PORTFOLIO?\n",
        "#ORDENAR O CONJUTO DE DADOS PELA MENOR DATA\n",
        "data['date'] = pd.to_datetime(data['date'])\n",
        "print(data.sort_values( 'date', ascending=True))"
      ],
      "metadata": {
        "id": "fhBRmKBGM_Oa",
        "colab": {
          "base_uri": "https://localhost:8080/"
        },
        "outputId": "51cc3439-7f59-4564-f668-06ef7ae54b83"
      },
      "execution_count": 123,
      "outputs": [
        {
          "output_type": "stream",
          "name": "stdout",
          "text": [
            "               id       date      price  bedrooms  bathrooms  sqft_living  \\\n",
            "16768  5561000190 2014-05-02   437500.0         2       2.25         1970   \n",
            "9596    472000620 2014-05-02   790000.0         2       2.50         2600   \n",
            "9587   1024069009 2014-05-02   675000.0         2       2.50         2820   \n",
            "20602  7853361370 2014-05-02   555000.0         2       2.50         3310   \n",
            "11577  5056500260 2014-05-02   440000.0         2       2.25         2160   \n",
            "...           ...        ...        ...       ...        ...          ...   \n",
            "7898   1422700040 2015-05-14   183000.0         1       1.00         1170   \n",
            "928    8730000270 2015-05-14   359000.0         2       2.75         1370   \n",
            "5637   7923600250 2015-05-15   450000.0         2       2.00         1870   \n",
            "13053  5101400871 2015-05-24   445500.0         1       1.75         1390   \n",
            "16594  9106000005 2015-05-27  1310000.0         2       2.25         3750   \n",
            "\n",
            "       sqft_lot  floors  waterfront  view  ...  grade  sqft_above  \\\n",
            "16768     35100     2.0           0     0  ...      9        1970   \n",
            "9596       4750     1.0           0     0  ...      9        1700   \n",
            "9587      67518     2.0           0     0  ...      8        2820   \n",
            "20602      6500     2.0           0     0  ...      8        3310   \n",
            "11577      8119     1.0           0     0  ...      8        1080   \n",
            "...         ...     ...         ...   ...  ...    ...         ...   \n",
            "7898       7320     1.0           0     0  ...      7        1170   \n",
            "928        1140     2.0           0     0  ...      8        1080   \n",
            "5637       7344     1.5           0     0  ...      7        1870   \n",
            "13053      6670     1.0           0     0  ...      6         720   \n",
            "16594      5000     2.0           0     0  ...      8        2440   \n",
            "\n",
            "       sqft_basement  yr_built  yr_renovated  zipcode      lat     long  \\\n",
            "16768              0      1977             0    98027  47.4635 -121.991   \n",
            "9596             900      1951             0    98117  47.6833 -122.400   \n",
            "9587               0      1979             0    98029  47.5794 -122.025   \n",
            "20602              0      2012             0    98065  47.5150 -121.870   \n",
            "11577           1080      1966             0    98006  47.5443 -122.177   \n",
            "...              ...       ...           ...      ...      ...      ...   \n",
            "7898               0      1962             0    98188  47.4685 -122.282   \n",
            "928              290      2009             0    98133  47.7052 -122.343   \n",
            "5637               0      1960             0    98007  47.5951 -122.144   \n",
            "13053            670      1941             0    98115  47.6914 -122.308   \n",
            "16594           1310      1924             0    98115  47.6747 -122.303   \n",
            "\n",
            "       sqft_living15  sqft_lot15  \n",
            "16768           2340       35100  \n",
            "9596            2380        4750  \n",
            "9587            2820       48351  \n",
            "20602           2380        5000  \n",
            "11577           1850        9000  \n",
            "...              ...         ...  \n",
            "7898            2040        7320  \n",
            "928             1370        1090  \n",
            "5637            1870        7650  \n",
            "13053            920        6380  \n",
            "16594           2170        4590  \n",
            "\n",
            "[21613 rows x 21 columns]\n"
          ]
        }
      ]
    },
    {
      "cell_type": "code",
      "source": [
        "# 2 - QUANTOS IMOVÉIS POSSUIEM O NÚMERO MAXIMO DE ANDARES?\n",
        "#ENCONTRAR OS NUMEROS DE ANDARES E DETERMINAR O MAIOR\n",
        "#CONTAR QUANTO IMÓVEIS EU TENHO POR ANDAR\n"
      ],
      "metadata": {
        "id": "nLCSSJWMM_LD"
      },
      "execution_count": 124,
      "outputs": []
    },
    {
      "cell_type": "code",
      "source": [
        "print( data['floors'].unique())"
      ],
      "metadata": {
        "id": "_SahTuaPIksI",
        "colab": {
          "base_uri": "https://localhost:8080/"
        },
        "outputId": "5bea02e0-1c6d-4bb7-a09a-a5cef2f8a9d0"
      },
      "execution_count": 125,
      "outputs": [
        {
          "output_type": "stream",
          "name": "stdout",
          "text": [
            "[1.  2.  1.5 3.  2.5 3.5]\n"
          ]
        }
      ]
    },
    {
      "cell_type": "code",
      "source": [
        "print( data[data['floors'] == 3.5].shape)"
      ],
      "metadata": {
        "id": "pCXdB3jsIkeb",
        "colab": {
          "base_uri": "https://localhost:8080/"
        },
        "outputId": "2217513d-1632-4199-b8c5-c3c5f6ed1426"
      },
      "execution_count": 126,
      "outputs": [
        {
          "output_type": "stream",
          "name": "stdout",
          "text": [
            "(8, 21)\n"
          ]
        }
      ]
    },
    {
      "cell_type": "code",
      "source": [
        "# 3 -CRIAR UMA CLASSIFICAÇÃO PARA O IMÓVEIS, SEPARANDO-OS BAIXOS E ALTO PADRÃO DE ACORDO COM O PREÇO\n",
        "#ACIMA DE R$540,00 = ALTO PADRÃO (high_standard)\n",
        "#ABAIXO DE R$540,00 = BAIXO PADRÃO (low_standard)"
      ],
      "metadata": {
        "id": "5OWCJ7xiM-8L"
      },
      "execution_count": 127,
      "outputs": []
    },
    {
      "cell_type": "code",
      "source": [
        "data['level'] = 'standard'\n",
        "\n",
        "data.loc[data['price'] > 540000, 'level'] = 'high_level'\n",
        "data.loc[data['price'] < 540000, 'level'] = 'low_level'\n",
        "print(data.head())"
      ],
      "metadata": {
        "id": "44_DmliBdRKp",
        "colab": {
          "base_uri": "https://localhost:8080/"
        },
        "outputId": "0223670f-592a-4642-fc3d-6b2e79324f36"
      },
      "execution_count": 128,
      "outputs": [
        {
          "output_type": "stream",
          "name": "stdout",
          "text": [
            "           id       date     price  bedrooms  bathrooms  sqft_living  \\\n",
            "0  7129300520 2014-10-13  221900.0         1       1.00         1180   \n",
            "1  6414100192 2014-12-09  538000.0         2       2.25         2570   \n",
            "2  5631500400 2015-02-25  180000.0         1       1.00          770   \n",
            "3  2487200875 2014-12-09  604000.0         3       3.00         1960   \n",
            "4  1954400510 2015-02-18  510000.0         2       2.00         1680   \n",
            "\n",
            "   sqft_lot  floors  waterfront  view  ...  sqft_above  sqft_basement  \\\n",
            "0      5650     1.0           0     0  ...        1180              0   \n",
            "1      7242     2.0           0     0  ...        2170            400   \n",
            "2     10000     1.0           0     0  ...         770              0   \n",
            "3      5000     1.0           0     0  ...        1050            910   \n",
            "4      8080     1.0           0     0  ...        1680              0   \n",
            "\n",
            "   yr_built  yr_renovated  zipcode      lat     long  sqft_living15  \\\n",
            "0      1955             0    98178  47.5112 -122.257           1340   \n",
            "1      1951          1991    98125  47.7210 -122.319           1690   \n",
            "2      1933             0    98028  47.7379 -122.233           2720   \n",
            "3      1965             0    98136  47.5208 -122.393           1360   \n",
            "4      1987             0    98074  47.6168 -122.045           1800   \n",
            "\n",
            "   sqft_lot15       level  \n",
            "0        5650   low_level  \n",
            "1        7639   low_level  \n",
            "2        8062   low_level  \n",
            "3        5000  high_level  \n",
            "4        7503   low_level  \n",
            "\n",
            "[5 rows x 22 columns]\n"
          ]
        }
      ]
    },
    {
      "cell_type": "code",
      "source": [
        "# 4 -GOSTARIA DE UM RELATÓRIO ORDENADO PELO PREÇO E CONTENDO AS SENGUINTES INFORMAÇOES:\n",
        "#ID DO IMOVEL, DATA QUE O IMOVEL FICOU DISPONIVEL PARA COMPRA, O NUMERO DE QUARTOS, O TAMANHO DO TERRENO, O PREÇO, A CLASSIFICAÇÃO DO IMOVEL(ALTO E BAIXO PADRÃO) "
      ],
      "metadata": {
        "id": "ohHBlTSDM-lu"
      },
      "execution_count": 129,
      "outputs": []
    },
    {
      "cell_type": "code",
      "source": [
        "report = data[['id', 'date', 'price', 'bedrooms', 'sqft_lot', 'level']].sort_values('price', ascending=False)\n",
        "print(report.head())\n",
        "\n",
        "#report.to_csv( 'datasets/report_aula02.csv', index=False ) - para salvar usando app baixado no curso"
      ],
      "metadata": {
        "id": "Jp_feUw6dQEu",
        "colab": {
          "base_uri": "https://localhost:8080/"
        },
        "outputId": "341c9ef3-cd65-45e9-ed33-c69b7e210bc5"
      },
      "execution_count": 130,
      "outputs": [
        {
          "output_type": "stream",
          "name": "stdout",
          "text": [
            "              id       date      price  bedrooms  sqft_lot       level\n",
            "7252  6762700020 2014-10-13  7700000.0         8     27600  high_level\n",
            "3914  9808700762 2014-06-11  7062500.0         4     37325  high_level\n",
            "9254  9208900037 2014-09-19  6885000.0         7     31374  high_level\n",
            "4411  2470100110 2014-08-04  5570000.0         5     35069  high_level\n",
            "1448  8907500070 2015-04-13  5350000.0         5     23985  high_level\n"
          ]
        }
      ]
    },
    {
      "cell_type": "code",
      "source": [
        "import matplotlib.pyplot as plt\n",
        "import plotly.express as px\n",
        "data_mapa = data[['id', 'lat', 'long', 'price']]\n",
        "\n",
        "mapa =px.scatter_mapbox( data_mapa, lat= 'lat', lon='long',\n",
        "                  hover_name='id',\n",
        "                  hover_data= ['price'],\n",
        "                  color_discrete_sequence=['fuchsia'],\n",
        "                  zoom=3,\n",
        "                  height=300  )\n",
        "\n",
        "mapa.update_layout ( mapbox_style = 'open-street-map')\n",
        "mapa.update_layout ( height=600, margin={ 'r':0, 't':0, 'l':0, 'b':0})\n",
        "\n",
        "\n",
        "mapa.write_html('sample_data/mapa_house_rocket.html')\n"
      ],
      "metadata": {
        "id": "QWKYhBFjdP-7"
      },
      "execution_count": 131,
      "outputs": []
    },
    {
      "cell_type": "code",
      "source": [
        "# 5 -GOSTARIA DE UM MAPA INDICANDO ONDE AS CASAS ESTÃO LOCALIZADA GEOGRAFICAMENTE"
      ],
      "metadata": {
        "id": "xyOdrkUdSac3"
      },
      "execution_count": 132,
      "outputs": []
    },
    {
      "cell_type": "code",
      "source": [
        "\n"
      ],
      "metadata": {
        "id": "aU5n-zIZSaTj"
      },
      "execution_count": 132,
      "outputs": []
    },
    {
      "cell_type": "code",
      "source": [],
      "metadata": {
        "id": "kaZ_Bk5vSaNl"
      },
      "execution_count": 132,
      "outputs": []
    },
    {
      "cell_type": "code",
      "source": [],
      "metadata": {
        "id": "CM63-lqBSaKc"
      },
      "execution_count": 132,
      "outputs": []
    },
    {
      "cell_type": "code",
      "source": [],
      "metadata": {
        "id": "LFS383niSaHT"
      },
      "execution_count": 132,
      "outputs": []
    },
    {
      "cell_type": "code",
      "source": [],
      "metadata": {
        "id": "AJDD-cnHSaA6"
      },
      "execution_count": 132,
      "outputs": []
    },
    {
      "cell_type": "code",
      "source": [],
      "metadata": {
        "id": "CaWDDrdzSZ-U"
      },
      "execution_count": 132,
      "outputs": []
    },
    {
      "cell_type": "code",
      "source": [],
      "metadata": {
        "id": "E-xVPZ-CSZ8J"
      },
      "execution_count": 132,
      "outputs": []
    },
    {
      "cell_type": "code",
      "source": [],
      "metadata": {
        "id": "HgwqDTAVSZ5n"
      },
      "execution_count": 132,
      "outputs": []
    },
    {
      "cell_type": "code",
      "source": [],
      "metadata": {
        "id": "INylhtZzSZ3C"
      },
      "execution_count": 132,
      "outputs": []
    },
    {
      "cell_type": "code",
      "source": [],
      "metadata": {
        "id": "vRUXLPnRSZ0e"
      },
      "execution_count": 132,
      "outputs": []
    },
    {
      "cell_type": "code",
      "source": [],
      "metadata": {
        "id": "hz-gqwADSZxa"
      },
      "execution_count": 132,
      "outputs": []
    },
    {
      "cell_type": "code",
      "source": [],
      "metadata": {
        "id": "Sy1Yq4Z1SZuu"
      },
      "execution_count": 132,
      "outputs": []
    },
    {
      "cell_type": "code",
      "source": [],
      "metadata": {
        "id": "Ni7udLrkSZov"
      },
      "execution_count": 132,
      "outputs": []
    },
    {
      "cell_type": "code",
      "source": [],
      "metadata": {
        "id": "Wmr6QQtUSZln"
      },
      "execution_count": 132,
      "outputs": []
    },
    {
      "cell_type": "code",
      "source": [],
      "metadata": {
        "id": "i4z0E_cTSZiM"
      },
      "execution_count": 132,
      "outputs": []
    }
  ]
}