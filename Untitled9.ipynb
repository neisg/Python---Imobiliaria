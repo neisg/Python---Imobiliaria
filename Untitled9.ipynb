{
  "nbformat": 4,
  "nbformat_minor": 0,
  "metadata": {
    "colab": {
      "provenance": [],
      "collapsed_sections": [],
      "authorship_tag": "ABX9TyMA8NrC9S2PEWaJUxv7Zl9y",
      "include_colab_link": true
    },
    "kernelspec": {
      "name": "python3",
      "display_name": "Python 3"
    },
    "language_info": {
      "name": "python"
    }
  },
  "cells": [
    {
      "cell_type": "markdown",
      "metadata": {
        "id": "view-in-github",
        "colab_type": "text"
      },
      "source": [
        "<a href=\"https://colab.research.google.com/github/neisg/Python---Imobiliaria/blob/main/Untitled9.ipynb\" target=\"_parent\"><img src=\"https://colab.research.google.com/assets/colab-badge.svg\" alt=\"Open In Colab\"/></a>"
      ]
    },
    {
      "cell_type": "code",
      "execution_count": null,
      "metadata": {
        "id": "rsa4WMkYG_aT"
      },
      "outputs": [],
      "source": [
        "#Imobiliaria\n",
        "#House Rocket"
      ]
    },
    {
      "cell_type": "code",
      "source": [
        "import pandas as pd\n"
      ],
      "metadata": {
        "id": "RapVnHd5HiEC"
      },
      "execution_count": null,
      "outputs": []
    },
    {
      "cell_type": "markdown",
      "source": [],
      "metadata": {
        "id": "x7cGv6g8Lf3E"
      }
    },
    {
      "cell_type": "code",
      "source": [],
      "metadata": {
        "id": "CIkohkpqKKMT"
      },
      "execution_count": null,
      "outputs": []
    },
    {
      "cell_type": "code",
      "source": [
        "data = pd.read_csv('/content/kc_house_data.csv')"
      ],
      "metadata": {
        "id": "bulNfZCXHlxE"
      },
      "execution_count": 27,
      "outputs": []
    },
    {
      "cell_type": "code",
      "source": [
        "# mostrar 5 primeiras linhas\n",
        "print(data.head())"
      ],
      "metadata": {
        "colab": {
          "base_uri": "https://localhost:8080/"
        },
        "id": "hgS39GnhM_eL",
        "outputId": "527b0c42-3a7b-4e9f-bef5-c1f20d6c0679"
      },
      "execution_count": 30,
      "outputs": [
        {
          "output_type": "stream",
          "name": "stdout",
          "text": [
            "           id             date     price  bedrooms  bathrooms  sqft_living  \\\n",
            "0  7129300520  20141013T000000  221900.0         3       1.00         1180   \n",
            "1  6414100192  20141209T000000  538000.0         3       2.25         2570   \n",
            "2  5631500400  20150225T000000  180000.0         2       1.00          770   \n",
            "3  2487200875  20141209T000000  604000.0         4       3.00         1960   \n",
            "4  1954400510  20150218T000000  510000.0         3       2.00         1680   \n",
            "\n",
            "   sqft_lot  floors  waterfront  view  ...  grade  sqft_above  sqft_basement  \\\n",
            "0      5650     1.0           0     0  ...      7        1180              0   \n",
            "1      7242     2.0           0     0  ...      7        2170            400   \n",
            "2     10000     1.0           0     0  ...      6         770              0   \n",
            "3      5000     1.0           0     0  ...      7        1050            910   \n",
            "4      8080     1.0           0     0  ...      8        1680              0   \n",
            "\n",
            "   yr_built  yr_renovated  zipcode      lat     long  sqft_living15  \\\n",
            "0      1955             0    98178  47.5112 -122.257           1340   \n",
            "1      1951          1991    98125  47.7210 -122.319           1690   \n",
            "2      1933             0    98028  47.7379 -122.233           2720   \n",
            "3      1965             0    98136  47.5208 -122.393           1360   \n",
            "4      1987             0    98074  47.6168 -122.045           1800   \n",
            "\n",
            "   sqft_lot15  \n",
            "0        5650  \n",
            "1        7639  \n",
            "2        8062  \n",
            "3        5000  \n",
            "4        7503  \n",
            "\n",
            "[5 rows x 21 columns]\n"
          ]
        }
      ]
    },
    {
      "cell_type": "code",
      "source": [
        "#linhas e colunas\n",
        "print(data.shape)"
      ],
      "metadata": {
        "colab": {
          "base_uri": "https://localhost:8080/"
        },
        "id": "veoPJohLM_as",
        "outputId": "ddd6daf3-a35b-458e-bc12-2a949ba35c32"
      },
      "execution_count": 33,
      "outputs": [
        {
          "output_type": "stream",
          "name": "stdout",
          "text": [
            "(21613, 21)\n"
          ]
        }
      ]
    },
    {
      "cell_type": "code",
      "source": [
        "#Ordenadar colunas (price)\n",
        "print( data[[ 'id', 'price']].sort_values( 'price'))"
      ],
      "metadata": {
        "colab": {
          "base_uri": "https://localhost:8080/"
        },
        "id": "ApVVAUmYM_XK",
        "outputId": "82091b84-4e12-443f-e913-6131583b08a5"
      },
      "execution_count": 34,
      "outputs": [
        {
          "output_type": "stream",
          "name": "stdout",
          "text": [
            "               id      price\n",
            "1149   3421079032    75000.0\n",
            "15293    40000362    78000.0\n",
            "465    8658300340    80000.0\n",
            "16198  3028200080    81000.0\n",
            "8274   3883800011    82000.0\n",
            "...           ...        ...\n",
            "1448   8907500070  5350000.0\n",
            "4411   2470100110  5570000.0\n",
            "9254   9208900037  6885000.0\n",
            "3914   9808700762  7062500.0\n",
            "7252   6762700020  7700000.0\n",
            "\n",
            "[21613 rows x 2 columns]\n"
          ]
        }
      ]
    },
    {
      "cell_type": "code",
      "source": [
        "#Ordenadar colunas (price) por ordem decrescente\n",
        "print( data[[ 'id', 'price']].sort_values( 'price', ascending=False))"
      ],
      "metadata": {
        "colab": {
          "base_uri": "https://localhost:8080/"
        },
        "id": "ZToFpyvDM_RT",
        "outputId": "38bf2f9a-c7d0-48a9-9506-ad76faf589f9"
      },
      "execution_count": 35,
      "outputs": [
        {
          "output_type": "stream",
          "name": "stdout",
          "text": [
            "               id      price\n",
            "7252   6762700020  7700000.0\n",
            "3914   9808700762  7062500.0\n",
            "9254   9208900037  6885000.0\n",
            "4411   2470100110  5570000.0\n",
            "1448   8907500070  5350000.0\n",
            "...           ...        ...\n",
            "8274   3883800011    82000.0\n",
            "16198  3028200080    81000.0\n",
            "465    8658300340    80000.0\n",
            "15293    40000362    78000.0\n",
            "1149   3421079032    75000.0\n",
            "\n",
            "[21613 rows x 2 columns]\n"
          ]
        }
      ]
    },
    {
      "cell_type": "code",
      "source": [],
      "metadata": {
        "id": "fhBRmKBGM_Oa"
      },
      "execution_count": null,
      "outputs": []
    },
    {
      "cell_type": "code",
      "source": [],
      "metadata": {
        "id": "nLCSSJWMM_LD"
      },
      "execution_count": null,
      "outputs": []
    },
    {
      "cell_type": "code",
      "source": [],
      "metadata": {
        "id": "Ox1xyqciM_G4"
      },
      "execution_count": null,
      "outputs": []
    },
    {
      "cell_type": "code",
      "source": [],
      "metadata": {
        "id": "5OWCJ7xiM-8L"
      },
      "execution_count": null,
      "outputs": []
    },
    {
      "cell_type": "code",
      "source": [],
      "metadata": {
        "id": "ohHBlTSDM-lu"
      },
      "execution_count": null,
      "outputs": []
    }
  ]
}